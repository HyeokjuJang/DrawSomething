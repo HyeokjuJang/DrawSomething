{
 "cells": [
  {
   "cell_type": "code",
   "execution_count": 1,
   "metadata": {},
   "outputs": [],
   "source": [
    "import jsonlines as jl\n",
    "import numpy as np\n",
    "import matplotlib.pyplot as plt"
   ]
  },
  {
   "cell_type": "code",
   "execution_count": 2,
   "metadata": {},
   "outputs": [],
   "source": [
    "data = []\n",
    "key_id = []\n",
    "drawing = []\n",
    "filename = \"simplified_aircraft carrier.ndjson\"\n",
    "with jl.open(filename) as reader:\n",
    "    for line in reader:\n",
    "        data.append(line)\n",
    "        key_id.append(line['key_id'])\n",
    "        drawing.append(line['drawing'])"
   ]
  },
  {
   "cell_type": "code",
   "execution_count": 3,
   "metadata": {},
   "outputs": [
    {
     "name": "stdout",
     "output_type": "stream",
     "text": [
      "Type the key_id : \n",
      "5475678961008640\n"
     ]
    }
   ],
   "source": [
    "print('Type the key_id : ')\n",
    "input_key = input()#'5475678961008640'\n",
    "key_idx = key_id.index(input_key)"
   ]
  },
  {
   "cell_type": "code",
   "execution_count": 6,
   "metadata": {},
   "outputs": [
    {
     "name": "stdout",
     "output_type": "stream",
     "text": [
      "True\n"
     ]
    },
    {
     "data": {
      "image/png": "[encoded data removed]",
      "text/plain": [
       "<Figure size 432x288 with 1 Axes>"
      ]
     },
     "metadata": {},
     "output_type": "display_data"
    }
   ],
   "source": [
    "paths = data[key_idx]['drawing']\n",
    "print(data[key_idx]['recognized'])\n",
    "for path in paths:\n",
    "    #print(path[0],path[1])\n",
    "    plt.plot(path[0],path[1])\n",
    "plt.show()"
   ]
  },
  {
   "cell_type": "code",
   "execution_count": 5,
   "metadata": {},
   "outputs": [
    {
     "data": {
      "text/plain": [
       "{'word': 'aircraft carrier',\n",
       " 'countrycode': 'MY',\n",
       " 'timestamp': '2017-03-28 13:28:00.85173 UTC',\n",
       " 'recognized': True,\n",
       " 'key_id': '5475678961008640',\n",
       " 'drawing': [[[31, 32], [0, 7]],\n",
       "  [[27, 37, 38, 35, 21], [4, 4, 6, 7, 3]],\n",
       "  [[25, 28, 38, 39], [5, 10, 10, 7]],\n",
       "  [[33, 34, 32], [4, 33, 44]],\n",
       "  [[5, 188, 254, 251, 241, 185, 45, 9, 0],\n",
       "   [50, 50, 54, 83, 86, 90, 86, 77, 52]],\n",
       "  [[35, 35, 43, 125, 126], [85, 91, 92, 96, 90]],\n",
       "  [[35, 76, 80, 77], [35, 37, 41, 47]],\n",
       "  [[53, 50, 54, 80, 78], [34, 23, 22, 23, 34]]]}"
      ]
     },
     "execution_count": 5,
     "metadata": {},
     "output_type": "execute_result"
    }
   ],
   "source": [
    "data[0]"
   ]
  },
  {
   "cell_type": "code",
   "execution_count": null,
   "metadata": {},
   "outputs": [],
   "source": []
  }
 ],
 "metadata": {
  "kernelspec": {
   "display_name": "Python 3",
   "language": "python",
   "name": "python3"
  },
  "language_info": {
   "codemirror_mode": {
    "name": "ipython",
    "version": 3
   },
   "file_extension": ".py",
   "mimetype": "text/x-python",
   "name": "python",
   "nbconvert_exporter": "python",
   "pygments_lexer": "ipython3",
   "version": "3.6.6"
  }
 },
 "nbformat": 4,
 "nbformat_minor": 2
}
